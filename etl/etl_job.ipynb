{
 "cells": [
  {
   "cell_type": "code",
   "execution_count": 14,
   "id": "cd5008c0",
   "metadata": {},
   "outputs": [],
   "source": [
    "import pandas as pd\n",
    "from pathlib import Path"
   ]
  },
  {
   "cell_type": "code",
   "execution_count": 15,
   "id": "2f8b61e4",
   "metadata": {},
   "outputs": [],
   "source": [
    "scraped_data_source = r\"C:\\Users\\APIN PC\\OneDrive\\Documents\\DS\\DE_Inter\\data_epic_capstone\\etl\\data\\ai_tools_scraped.json\"\n",
    "seed_data_source = r\"C:\\Users\\APIN PC\\OneDrive\\Documents\\DS\\DE_Inter\\data_epic_capstone\\etl\\data\\seeded_ai_agents.csv\""
   ]
  },
  {
   "cell_type": "code",
   "execution_count": 16,
   "id": "30430eec",
   "metadata": {},
   "outputs": [],
   "source": [
    "def read_data(source_path):\n",
    "    \"\"\"\n",
    "\n",
    "    Args:\n",
    "        source_path (str): Data Path\n",
    "\n",
    "    Raises:\n",
    "        ValueError: Raises error for unsupported data type.\n",
    "\n",
    "    Returns:\n",
    "        dataframe: Pandas Dataframe.\n",
    "    \"\"\"\n",
    "\n",
    "    ext = Path(source_path).suffix\n",
    "    if ext == \".csv\":\n",
    "        return pd.read_csv(source_path)\n",
    "    elif ext == \".json\":\n",
    "        return pd.read_json(source_path)\n",
    "    elif ext == \".parquet\":\n",
    "        return pd.read_parquet(source_path)\n",
    "    else:\n",
    "        raise ValueError(\"Unsupported format\")\n",
    "    \n",
    "\n",
    "scraped_df = read_data(scraped_data_source)\n",
    "seed_df = read_data(seed_data_source)\n"
   ]
  },
  {
   "cell_type": "code",
   "execution_count": null,
   "metadata": {},
   "outputs": [],
   "source": [
    "\n"
   ]
  },
  {
   "cell_type": "code",
   "execution_count": 7,
   "id": "61eb01af",
   "metadata": {},
   "outputs": [
    {
     "data": {
      "text/plain": [
       "name           0\n",
       "description    0\n",
       "url            2\n",
       "tags           1\n",
       "pricing        1\n",
       "page           0\n",
       "dtype: int64"
      ]
     },
     "execution_count": 7,
     "metadata": {},
     "output_type": "execute_result"
    }
   ],
   "source": [
    "scraped_data.isna().sum()"
   ]
  },
  {
   "cell_type": "code",
   "execution_count": 5,
   "metadata": {},
   "outputs": [
    {
     "name": "stdout",
     "output_type": "stream",
     "text": [
      "b'<!DOCTYPE html><html lang=auto><head><meta charset=utf-8><meta http-equiv=X-UA-Compatible content=\"IE=edge\"><meta name=viewport content=\"width=device-width,initial-scale=1\"><link rel=icon href=https://spread.name/favicon.ico><link rel=dns-prefetch href=https://spread.name><link rel=preconnect href=https://spread.name crossorigin><link rel=dns-prefetch href=https://api.spreadsimple.com><link rel=preconnect href=https://api.spreadsimple.com crossorigin><link rel=dns-prefetch href=https://stats.spreadsimple.com><link rel=preconnect href=https://stats.spreadsimple.com crossorigin><meta name=host content=\"\"><title></title><link href=\"https://spread.name/js/chunk-2d20736c.js?_hash=452a561f\" rel=prefetch><link href=\"https://spread.name/js/page-checkout.js?_hash=b0679c62\" rel=prefetch><link href=\"https://spread.name/js/page-spread-view.js?_hash=6d561f9a\" rel=prefetch><link href=\"https://spread.name/js/page-view.js?_hash=e3d53082\" rel=prefetch><link href=\"https://spread.name/js/vendors~page-spread-view.js?_hash=b0fa0bea\" rel=prefetch><link href=\"https://spread.name/css/index.css?_hash=1d4c4d88\" rel=preload as=style><link href=\"https://spread.name/js/index.js?_hash=624526ab\" rel=preload as=script><link href=\"https://spread.name/css/index.css?_hash=1d4c4d88\" rel=stylesheet></head><body><div id=app></div><script>window.prerenderReady = false;</script><script src=\"https://spread.name/js/index.js?_hash=624526ab\"></script></body></html>\\n <!-- build commit 871e11f6d63549bdb83268091bbfbfdd2600e4d9;  time 23/05/2025 -->\\n <!-- build commit 14:23:31;  time (1748010211) -->'\n"
     ]
    }
   ],
   "source": [
    "print(res.content)"
   ]
  },
  {
   "cell_type": "code",
   "execution_count": null,
   "metadata": {},
   "outputs": [],
   "source": []
  },
  {
   "cell_type": "code",
   "execution_count": null,
   "metadata": {},
   "outputs": [],
   "source": []
  },
  {
   "cell_type": "code",
   "execution_count": null,
   "metadata": {},
   "outputs": [],
   "source": []
  },
  {
   "cell_type": "code",
   "execution_count": null,
   "metadata": {},
   "outputs": [],
   "source": []
  },
  {
   "cell_type": "code",
   "execution_count": null,
   "metadata": {},
   "outputs": [],
   "source": []
  }
 ],
 "metadata": {
  "kernelspec": {
   "display_name": "ai-agent-directory-py3.13",
   "language": "python",
   "name": "python3"
  },
  "language_info": {
   "codemirror_mode": {
    "name": "ipython",
    "version": 3
   },
   "file_extension": ".py",
   "mimetype": "text/x-python",
   "name": "python",
   "nbconvert_exporter": "python",
   "pygments_lexer": "ipython3",
   "version": "3.13.3"
  }
 },
 "nbformat": 4,
 "nbformat_minor": 5
}
