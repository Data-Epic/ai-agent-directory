{
 "cells": [
  {
   "cell_type": "code",
   "execution_count": null,
   "id": "cd5008c0",
   "metadata": {},
   "outputs": [],
   "source": [
    "import requests\n",
    "import beautifulsoup4"
   ]
  },
  {
   "cell_type": "code",
   "execution_count": 3,
   "id": "ba8d1bf5",
   "metadata": {},
   "outputs": [],
   "source": [
    "url = \"https://aitoolsdirectory.com\""
   ]
  },
  {
   "cell_type": "code",
   "execution_count": 4,
   "metadata": {},
   "outputs": [
    {
     "name": "stdout",
     "output_type": "stream",
     "text": [
      "<Response [200]>\n"
     ]
    }
   ],
   "source": [
    "res = requests.get(url)\n",
    "print(res)"
   ]
  },
  {
   "cell_type": "code",
   "execution_count": 6,
   "id": "61eb01af",
   "metadata": {},
   "outputs": [
    {
     "data": {
      "text/plain": [
       "{}"
      ]
     },
     "execution_count": 6,
     "metadata": {},
     "output_type": "execute_result"
    }
   ],
   "source": [
    "res.links"
   ]
  },
  {
   "cell_type": "code",
   "execution_count": 5,
   "metadata": {},
   "outputs": [
    {
     "name": "stdout",
     "output_type": "stream",
     "text": [
      "b'<!DOCTYPE html><html lang=auto><head><meta charset=utf-8><meta http-equiv=X-UA-Compatible content=\"IE=edge\"><meta name=viewport content=\"width=device-width,initial-scale=1\"><link rel=icon href=https://spread.name/favicon.ico><link rel=dns-prefetch href=https://spread.name><link rel=preconnect href=https://spread.name crossorigin><link rel=dns-prefetch href=https://api.spreadsimple.com><link rel=preconnect href=https://api.spreadsimple.com crossorigin><link rel=dns-prefetch href=https://stats.spreadsimple.com><link rel=preconnect href=https://stats.spreadsimple.com crossorigin><meta name=host content=\"\"><title></title><link href=\"https://spread.name/js/chunk-2d20736c.js?_hash=452a561f\" rel=prefetch><link href=\"https://spread.name/js/page-checkout.js?_hash=b0679c62\" rel=prefetch><link href=\"https://spread.name/js/page-spread-view.js?_hash=6d561f9a\" rel=prefetch><link href=\"https://spread.name/js/page-view.js?_hash=e3d53082\" rel=prefetch><link href=\"https://spread.name/js/vendors~page-spread-view.js?_hash=b0fa0bea\" rel=prefetch><link href=\"https://spread.name/css/index.css?_hash=1d4c4d88\" rel=preload as=style><link href=\"https://spread.name/js/index.js?_hash=624526ab\" rel=preload as=script><link href=\"https://spread.name/css/index.css?_hash=1d4c4d88\" rel=stylesheet></head><body><div id=app></div><script>window.prerenderReady = false;</script><script src=\"https://spread.name/js/index.js?_hash=624526ab\"></script></body></html>\\n <!-- build commit 871e11f6d63549bdb83268091bbfbfdd2600e4d9;  time 23/05/2025 -->\\n <!-- build commit 14:23:31;  time (1748010211) -->'\n"
     ]
    }
   ],
   "source": [
    "print(res.content)"
   ]
  },
  {
   "cell_type": "code",
   "execution_count": null,
   "metadata": {},
   "outputs": [],
   "source": []
  },
  {
   "cell_type": "code",
   "execution_count": null,
   "metadata": {},
   "outputs": [],
   "source": []
  },
  {
   "cell_type": "code",
   "execution_count": null,
   "metadata": {},
   "outputs": [],
   "source": []
  },
  {
   "cell_type": "code",
   "execution_count": null,
   "metadata": {},
   "outputs": [],
   "source": []
  },
  {
   "cell_type": "code",
   "execution_count": null,
   "metadata": {},
   "outputs": [],
   "source": []
  }
 ],
 "metadata": {
  "kernelspec": {
   "display_name": "base",
   "language": "python",
   "name": "python3"
  },
  "language_info": {
   "codemirror_mode": {
    "name": "ipython",
    "version": 3
   },
   "file_extension": ".py",
   "mimetype": "text/x-python",
   "name": "python",
   "nbconvert_exporter": "python",
   "pygments_lexer": "ipython3",
   "version": "3.11.5"
  }
 },
 "nbformat": 4,
 "nbformat_minor": 5
}
